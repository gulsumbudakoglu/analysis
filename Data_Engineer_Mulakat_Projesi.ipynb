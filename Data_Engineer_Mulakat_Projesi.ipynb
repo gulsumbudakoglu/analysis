{
  "nbformat": 4,
  "nbformat_minor": 0,
  "metadata": {
    "colab": {
      "name": "Data-Engineer-Mulakat-Projesi.ipynb",
      "provenance": [],
      "collapsed_sections": [],
      "authorship_tag": "ABX9TyPPLWuncKPZR8LpOUrDLgu7",
      "include_colab_link": true
    },
    "kernelspec": {
      "name": "python3",
      "display_name": "Python 3"
    }
  },
  "cells": [
    {
      "cell_type": "markdown",
      "metadata": {
        "id": "view-in-github",
        "colab_type": "text"
      },
      "source": [
        "<a href=\"https://colab.research.google.com/github/gulsumbudakoglu/glsm/blob/master/Data_Engineer_Mulakat_Projesi.ipynb\" target=\"_parent\"><img src=\"https://colab.research.google.com/assets/colab-badge.svg\" alt=\"Open In Colab\"/></a>"
      ]
    },
    {
      "cell_type": "code",
      "metadata": {
        "colab": {
          "base_uri": "https://localhost:8080/"
        },
        "id": "jlhlWvvYcova",
        "outputId": "9ba4680b-d4ab-4281-8a90-f747a4666682"
      },
      "source": [
        "from google.colab import drive\n",
        "drive.mount('/content/drive')\n"
      ],
      "execution_count": 1,
      "outputs": [
        {
          "output_type": "stream",
          "text": [
            "Mounted at /content/drive\n"
          ],
          "name": "stdout"
        }
      ]
    },
    {
      "cell_type": "code",
      "metadata": {
        "id": "UPj1zP6M6Mjq",
        "colab": {
          "base_uri": "https://localhost:8080/"
        },
        "outputId": "7cf422fe-be02-4650-a27f-53b7021ab04e"
      },
      "source": [
        "import pandas as pd\n",
        "import pandas_profiling as pp\n",
        "import matplotlib.pyplot as plt\n",
        "import numpy as np\n",
        "import datetime\n",
        "import seaborn as sns\n",
        "import scipy as sp\n",
        "import matplotlib.patches as mpatches\n",
        "from sklearn.metrics import mean_squared_error\n",
        "from statsmodels.tsa.arima_model import ARIMA\n",
        "from pandas import DataFrame\n",
        "from numpy.core.defchararray import add\n",
        "import plotly.graph_objs as go\n",
        "#import plotly.plotly as py\n",
        "import plotly.offline as pyoff\n",
        "import statsmodels.api as sm\n",
        "import warnings\n",
        "import matplotlib\n",
        "import keras"
      ],
      "execution_count": 2,
      "outputs": [
        {
          "output_type": "stream",
          "text": [
            "/usr/local/lib/python3.6/dist-packages/statsmodels/tools/_testing.py:19: FutureWarning: pandas.util.testing is deprecated. Use the functions in the public API at pandas.testing instead.\n",
            "  import pandas.util.testing as tm\n"
          ],
          "name": "stderr"
        }
      ]
    },
    {
      "cell_type": "code",
      "metadata": {
        "colab": {
          "base_uri": "https://localhost:8080/",
          "height": 429
        },
        "id": "y31pxYXVdSd-",
        "outputId": "08db8d88-3ee4-4780-de9d-a50793064aa5"
      },
      "source": [
        "df1 = pd.read_csv('/content/drive/MyDrive/adjustnewto.csv',sep = ';', error_bad_lines=False, low_memory=False, encoding = \"ISO-8859-1\")\n",
        "df1.head()\n"
      ],
      "execution_count": 3,
      "outputs": [
        {
          "output_type": "execute_result",
          "data": {
            "text/html": [
              "<div>\n",
              "<style scoped>\n",
              "    .dataframe tbody tr th:only-of-type {\n",
              "        vertical-align: middle;\n",
              "    }\n",
              "\n",
              "    .dataframe tbody tr th {\n",
              "        vertical-align: top;\n",
              "    }\n",
              "\n",
              "    .dataframe thead th {\n",
              "        text-align: right;\n",
              "    }\n",
              "</style>\n",
              "<table border=\"1\" class=\"dataframe\">\n",
              "  <thead>\n",
              "    <tr style=\"text-align: right;\">\n",
              "      <th></th>\n",
              "      <th>{app_id}</th>\n",
              "      <th>{app_name}</th>\n",
              "      <th>{app_version}</th>\n",
              "      <th>{store}</th>\n",
              "      <th>{tracker}</th>\n",
              "      <th>{tracker_name}</th>\n",
              "      <th>{first_tracker}</th>\n",
              "      <th>{first_tracker_name}</th>\n",
              "      <th>{last_tracker}</th>\n",
              "      <th>{last_tracker_name}</th>\n",
              "      <th>{network_name}</th>\n",
              "      <th>{campaign_name}</th>\n",
              "      <th>{adgroup_name}</th>\n",
              "      <th>{creative_name}</th>\n",
              "      <th>{impression_based}</th>\n",
              "      <th>{is_organic}</th>\n",
              "      <th>{click_referer}</th>\n",
              "      <th>{activity_kind}</th>\n",
              "      <th>{click_time}</th>\n",
              "      <th>{impression_time}</th>\n",
              "      <th>{conversion_duration}</th>\n",
              "      <th>{engagement_time}</th>\n",
              "      <th>{installed_at}</th>\n",
              "      <th>{installed_at_hour}</th>\n",
              "      <th>{install_begin_time}</th>\n",
              "      <th>{install_finish_time}</th>\n",
              "      <th>{referral_time}</th>\n",
              "      <th>{created_at}</th>\n",
              "      <th>{reattributed_at}</th>\n",
              "      <th>{time_to_uninstall}</th>\n",
              "      <th>{time_to_reinstall}</th>\n",
              "      <th>{uninstalled_at}</th>\n",
              "      <th>{reinstalled_at}</th>\n",
              "      <th>{last_session_time}</th>\n",
              "      <th>{connection_type}</th>\n",
              "      <th>{cpu_type}</th>\n",
              "      <th>{hardware_name}</th>\n",
              "      <th>{network_type}</th>\n",
              "      <th>{device_manufacturer}</th>\n",
              "      <th>{nonce}</th>\n",
              "      <th>...</th>\n",
              "      <th>{time_spent}</th>\n",
              "      <th>{session_count}</th>\n",
              "      <th>{lifetime_session_count}</th>\n",
              "      <th>{is_reattributed}</th>\n",
              "      <th>{revenue}</th>\n",
              "      <th>{currency}</th>\n",
              "      <th>{revenue_usd}</th>\n",
              "      <th>{reporting_revenue}</th>\n",
              "      <th>{reporting_currency}</th>\n",
              "      <th>{cost_type}</th>\n",
              "      <th>{cost_amount}</th>\n",
              "      <th>{cost_currency}</th>\n",
              "      <th>{reporting_cost}</th>\n",
              "      <th>{push_token}</th>\n",
              "      <th>{gclid}</th>\n",
              "      <th>{adwords_campaign_type}</th>\n",
              "      <th>{adwords_campaign_name}</th>\n",
              "      <th>{adwords_campaign_id}</th>\n",
              "      <th>{adwords_adgroup_id}</th>\n",
              "      <th>{adwords_creative_id}</th>\n",
              "      <th>{adwords_network_type}</th>\n",
              "      <th>{adwords_network_subtype}</th>\n",
              "      <th>{adwords_keyword}</th>\n",
              "      <th>{adwords_matchtype}</th>\n",
              "      <th>{adwords_placement}</th>\n",
              "      <th>{adwords_video_id}</th>\n",
              "      <th>{search_term}</th>\n",
              "      <th>{fb_campaign_group_name}</th>\n",
              "      <th>{fb_campaign_group_id}</th>\n",
              "      <th>{fb_campaign_id}</th>\n",
              "      <th>{fb_campaign_name}</th>\n",
              "      <th>{fb_adgroup_name}</th>\n",
              "      <th>{fb_adgroup_id}</th>\n",
              "      <th>{fb_ad_objective_name}</th>\n",
              "      <th>{fb_account_id}</th>\n",
              "      <th>{fb_platform_position}</th>\n",
              "      <th>{iad_creative_set_name}</th>\n",
              "      <th>{iad_creative_set_id}</th>\n",
              "      <th>{iad_conversion_type}</th>\n",
              "      <th>{iad_keywords_matchtype}</th>\n",
              "    </tr>\n",
              "  </thead>\n",
              "  <tbody>\n",
              "    <tr>\n",
              "      <th>0</th>\n",
              "      <td>tr.com.apps.kk</td>\n",
              "      <td>NaN</td>\n",
              "      <td>NaN</td>\n",
              "      <td>google</td>\n",
              "      <td>ptteq5u</td>\n",
              "      <td>TikTok Android Installs::Apps_Kelime Kutusu_CP...</td>\n",
              "      <td>NaN</td>\n",
              "      <td>NaN</td>\n",
              "      <td>NaN</td>\n",
              "      <td>NaN</td>\n",
              "      <td>TikTok Android Installs</td>\n",
              "      <td>Apps_Kelime Kutusu_CPI&amp;1645632596191286</td>\n",
              "      <td>Apps_ Kelime Kutusu_Android_Pizza&amp;165370631682...</td>\n",
              "      <td>Kelime Bulmaca_Android_21s_Pizza&amp;1653706321611782</td>\n",
              "      <td>NaN</td>\n",
              "      <td>NaN</td>\n",
              "      <td>NaN</td>\n",
              "      <td>impression</td>\n",
              "      <td>NaN</td>\n",
              "      <td>1.577977e+09</td>\n",
              "      <td>NaN</td>\n",
              "      <td>1.577977e+09</td>\n",
              "      <td>NaN</td>\n",
              "      <td>NaN</td>\n",
              "      <td>NaN</td>\n",
              "      <td>NaN</td>\n",
              "      <td>NaN</td>\n",
              "      <td>1577977200</td>\n",
              "      <td>NaN</td>\n",
              "      <td>NaN</td>\n",
              "      <td>NaN</td>\n",
              "      <td>NaN</td>\n",
              "      <td>NaN</td>\n",
              "      <td>NaN</td>\n",
              "      <td>Cable/DSL</td>\n",
              "      <td>NaN</td>\n",
              "      <td>NaN</td>\n",
              "      <td>NaN</td>\n",
              "      <td>NaN</td>\n",
              "      <td>dddfet91v</td>\n",
              "      <td>...</td>\n",
              "      <td>NaN</td>\n",
              "      <td>NaN</td>\n",
              "      <td>NaN</td>\n",
              "      <td>NaN</td>\n",
              "      <td>NaN</td>\n",
              "      <td>NaN</td>\n",
              "      <td>NaN</td>\n",
              "      <td>NaN</td>\n",
              "      <td>NaN</td>\n",
              "      <td>NaN</td>\n",
              "      <td>NaN</td>\n",
              "      <td>NaN</td>\n",
              "      <td>NaN</td>\n",
              "      <td>NaN</td>\n",
              "      <td>NaN</td>\n",
              "      <td>NaN</td>\n",
              "      <td>NaN</td>\n",
              "      <td>NaN</td>\n",
              "      <td>NaN</td>\n",
              "      <td>NaN</td>\n",
              "      <td>NaN</td>\n",
              "      <td>NaN</td>\n",
              "      <td>NaN</td>\n",
              "      <td>NaN</td>\n",
              "      <td>NaN</td>\n",
              "      <td>NaN</td>\n",
              "      <td>NaN</td>\n",
              "      <td>NaN</td>\n",
              "      <td>NaN</td>\n",
              "      <td>NaN</td>\n",
              "      <td>NaN</td>\n",
              "      <td>NaN</td>\n",
              "      <td>NaN</td>\n",
              "      <td>NaN</td>\n",
              "      <td>NaN</td>\n",
              "      <td>NaN</td>\n",
              "      <td>NaN</td>\n",
              "      <td>NaN</td>\n",
              "      <td>NaN</td>\n",
              "      <td>{iad_keywords_matchtype}</td>\n",
              "    </tr>\n",
              "    <tr>\n",
              "      <th>1</th>\n",
              "      <td>tr.com.apps.kk</td>\n",
              "      <td>NaN</td>\n",
              "      <td>NaN</td>\n",
              "      <td>google</td>\n",
              "      <td>ptteq5u</td>\n",
              "      <td>TikTok Android Installs::Apps_Kelime Kutusu_CP...</td>\n",
              "      <td>NaN</td>\n",
              "      <td>NaN</td>\n",
              "      <td>NaN</td>\n",
              "      <td>NaN</td>\n",
              "      <td>TikTok Android Installs</td>\n",
              "      <td>Apps_Kelime Kutusu_CPI&amp;1645632596191286</td>\n",
              "      <td>Apps_ Kelime Kutusu_Android_Pizza&amp;165370631682...</td>\n",
              "      <td>Kelime Bulmaca_Android_21s_Pizza&amp;1653706321611782</td>\n",
              "      <td>NaN</td>\n",
              "      <td>NaN</td>\n",
              "      <td>NaN</td>\n",
              "      <td>impression</td>\n",
              "      <td>NaN</td>\n",
              "      <td>1.577977e+09</td>\n",
              "      <td>NaN</td>\n",
              "      <td>1.577977e+09</td>\n",
              "      <td>NaN</td>\n",
              "      <td>NaN</td>\n",
              "      <td>NaN</td>\n",
              "      <td>NaN</td>\n",
              "      <td>NaN</td>\n",
              "      <td>1577977200</td>\n",
              "      <td>NaN</td>\n",
              "      <td>NaN</td>\n",
              "      <td>NaN</td>\n",
              "      <td>NaN</td>\n",
              "      <td>NaN</td>\n",
              "      <td>NaN</td>\n",
              "      <td>Cellular</td>\n",
              "      <td>NaN</td>\n",
              "      <td>NaN</td>\n",
              "      <td>NaN</td>\n",
              "      <td>NaN</td>\n",
              "      <td>17jk8430o</td>\n",
              "      <td>...</td>\n",
              "      <td>NaN</td>\n",
              "      <td>NaN</td>\n",
              "      <td>NaN</td>\n",
              "      <td>NaN</td>\n",
              "      <td>NaN</td>\n",
              "      <td>NaN</td>\n",
              "      <td>NaN</td>\n",
              "      <td>NaN</td>\n",
              "      <td>NaN</td>\n",
              "      <td>NaN</td>\n",
              "      <td>NaN</td>\n",
              "      <td>NaN</td>\n",
              "      <td>NaN</td>\n",
              "      <td>NaN</td>\n",
              "      <td>NaN</td>\n",
              "      <td>NaN</td>\n",
              "      <td>NaN</td>\n",
              "      <td>NaN</td>\n",
              "      <td>NaN</td>\n",
              "      <td>NaN</td>\n",
              "      <td>NaN</td>\n",
              "      <td>NaN</td>\n",
              "      <td>NaN</td>\n",
              "      <td>NaN</td>\n",
              "      <td>NaN</td>\n",
              "      <td>NaN</td>\n",
              "      <td>NaN</td>\n",
              "      <td>NaN</td>\n",
              "      <td>NaN</td>\n",
              "      <td>NaN</td>\n",
              "      <td>NaN</td>\n",
              "      <td>NaN</td>\n",
              "      <td>NaN</td>\n",
              "      <td>NaN</td>\n",
              "      <td>NaN</td>\n",
              "      <td>NaN</td>\n",
              "      <td>NaN</td>\n",
              "      <td>NaN</td>\n",
              "      <td>NaN</td>\n",
              "      <td>{iad_keywords_matchtype}</td>\n",
              "    </tr>\n",
              "    <tr>\n",
              "      <th>2</th>\n",
              "      <td>NaN</td>\n",
              "      <td>NaN</td>\n",
              "      <td>NaN</td>\n",
              "      <td>NaN</td>\n",
              "      <td>j9w70pz</td>\n",
              "      <td>AppLovin Installs::KK - Android - TR - AppLovi...</td>\n",
              "      <td>NaN</td>\n",
              "      <td>NaN</td>\n",
              "      <td>NaN</td>\n",
              "      <td>NaN</td>\n",
              "      <td>AppLovin Installs</td>\n",
              "      <td>KK - Android - TR - AppLovin</td>\n",
              "      <td>0dd1c5d826388f1ecb8c75854e406882</td>\n",
              "      <td>Banner_KK - Android - TR - AppLovin</td>\n",
              "      <td>NaN</td>\n",
              "      <td>NaN</td>\n",
              "      <td>NaN</td>\n",
              "      <td>impression</td>\n",
              "      <td>NaN</td>\n",
              "      <td>1.577977e+09</td>\n",
              "      <td>NaN</td>\n",
              "      <td>1.577977e+09</td>\n",
              "      <td>NaN</td>\n",
              "      <td>NaN</td>\n",
              "      <td>NaN</td>\n",
              "      <td>NaN</td>\n",
              "      <td>NaN</td>\n",
              "      <td>1577977200</td>\n",
              "      <td>NaN</td>\n",
              "      <td>NaN</td>\n",
              "      <td>NaN</td>\n",
              "      <td>NaN</td>\n",
              "      <td>NaN</td>\n",
              "      <td>NaN</td>\n",
              "      <td>NaN</td>\n",
              "      <td>NaN</td>\n",
              "      <td>NaN</td>\n",
              "      <td>NaN</td>\n",
              "      <td>NaN</td>\n",
              "      <td>5zpnyeryd</td>\n",
              "      <td>...</td>\n",
              "      <td>NaN</td>\n",
              "      <td>NaN</td>\n",
              "      <td>NaN</td>\n",
              "      <td>NaN</td>\n",
              "      <td>NaN</td>\n",
              "      <td>NaN</td>\n",
              "      <td>NaN</td>\n",
              "      <td>NaN</td>\n",
              "      <td>NaN</td>\n",
              "      <td>NaN</td>\n",
              "      <td>NaN</td>\n",
              "      <td>NaN</td>\n",
              "      <td>NaN</td>\n",
              "      <td>NaN</td>\n",
              "      <td>NaN</td>\n",
              "      <td>NaN</td>\n",
              "      <td>NaN</td>\n",
              "      <td>NaN</td>\n",
              "      <td>NaN</td>\n",
              "      <td>NaN</td>\n",
              "      <td>NaN</td>\n",
              "      <td>NaN</td>\n",
              "      <td>NaN</td>\n",
              "      <td>NaN</td>\n",
              "      <td>NaN</td>\n",
              "      <td>NaN</td>\n",
              "      <td>NaN</td>\n",
              "      <td>NaN</td>\n",
              "      <td>NaN</td>\n",
              "      <td>NaN</td>\n",
              "      <td>NaN</td>\n",
              "      <td>NaN</td>\n",
              "      <td>NaN</td>\n",
              "      <td>NaN</td>\n",
              "      <td>NaN</td>\n",
              "      <td>NaN</td>\n",
              "      <td>NaN</td>\n",
              "      <td>NaN</td>\n",
              "      <td>NaN</td>\n",
              "      <td>{iad_keywords_matchtype}</td>\n",
              "    </tr>\n",
              "    <tr>\n",
              "      <th>3</th>\n",
              "      <td>tr.com.apps.kk</td>\n",
              "      <td>NaN</td>\n",
              "      <td>NaN</td>\n",
              "      <td>google</td>\n",
              "      <td>ptteq5u</td>\n",
              "      <td>TikTok Android Installs::Apps_Kelime Kutusu_CP...</td>\n",
              "      <td>NaN</td>\n",
              "      <td>NaN</td>\n",
              "      <td>NaN</td>\n",
              "      <td>NaN</td>\n",
              "      <td>TikTok Android Installs</td>\n",
              "      <td>Apps_Kelime Kutusu_CPI&amp;1645632596191286</td>\n",
              "      <td>Apps_ Kelime Kutusu_Android_Pizza&amp;165370631682...</td>\n",
              "      <td>Kelime Bulmaca_Android_21s_Pizza&amp;1653706321611782</td>\n",
              "      <td>NaN</td>\n",
              "      <td>NaN</td>\n",
              "      <td>NaN</td>\n",
              "      <td>impression</td>\n",
              "      <td>NaN</td>\n",
              "      <td>1.577977e+09</td>\n",
              "      <td>NaN</td>\n",
              "      <td>1.577977e+09</td>\n",
              "      <td>NaN</td>\n",
              "      <td>NaN</td>\n",
              "      <td>NaN</td>\n",
              "      <td>NaN</td>\n",
              "      <td>NaN</td>\n",
              "      <td>1577977199</td>\n",
              "      <td>NaN</td>\n",
              "      <td>NaN</td>\n",
              "      <td>NaN</td>\n",
              "      <td>NaN</td>\n",
              "      <td>NaN</td>\n",
              "      <td>NaN</td>\n",
              "      <td>Cable/DSL</td>\n",
              "      <td>NaN</td>\n",
              "      <td>NaN</td>\n",
              "      <td>NaN</td>\n",
              "      <td>NaN</td>\n",
              "      <td>44d9g6brn</td>\n",
              "      <td>...</td>\n",
              "      <td>NaN</td>\n",
              "      <td>NaN</td>\n",
              "      <td>NaN</td>\n",
              "      <td>NaN</td>\n",
              "      <td>NaN</td>\n",
              "      <td>NaN</td>\n",
              "      <td>NaN</td>\n",
              "      <td>NaN</td>\n",
              "      <td>NaN</td>\n",
              "      <td>NaN</td>\n",
              "      <td>NaN</td>\n",
              "      <td>NaN</td>\n",
              "      <td>NaN</td>\n",
              "      <td>NaN</td>\n",
              "      <td>NaN</td>\n",
              "      <td>NaN</td>\n",
              "      <td>NaN</td>\n",
              "      <td>NaN</td>\n",
              "      <td>NaN</td>\n",
              "      <td>NaN</td>\n",
              "      <td>NaN</td>\n",
              "      <td>NaN</td>\n",
              "      <td>NaN</td>\n",
              "      <td>NaN</td>\n",
              "      <td>NaN</td>\n",
              "      <td>NaN</td>\n",
              "      <td>NaN</td>\n",
              "      <td>NaN</td>\n",
              "      <td>NaN</td>\n",
              "      <td>NaN</td>\n",
              "      <td>NaN</td>\n",
              "      <td>NaN</td>\n",
              "      <td>NaN</td>\n",
              "      <td>NaN</td>\n",
              "      <td>NaN</td>\n",
              "      <td>NaN</td>\n",
              "      <td>NaN</td>\n",
              "      <td>NaN</td>\n",
              "      <td>NaN</td>\n",
              "      <td>{iad_keywords_matchtype}</td>\n",
              "    </tr>\n",
              "    <tr>\n",
              "      <th>4</th>\n",
              "      <td>tr.com.apps.kk</td>\n",
              "      <td>NaN</td>\n",
              "      <td>NaN</td>\n",
              "      <td>google</td>\n",
              "      <td>gl7y3ir</td>\n",
              "      <td>ironSrc Installs::Kelime Kutusu - Android - TR...</td>\n",
              "      <td>NaN</td>\n",
              "      <td>NaN</td>\n",
              "      <td>NaN</td>\n",
              "      <td>NaN</td>\n",
              "      <td>ironSrc Installs</td>\n",
              "      <td>Kelime Kutusu - Android - TR - ironSrc_8310429</td>\n",
              "      <td>209799</td>\n",
              "      <td>Set-7_122525</td>\n",
              "      <td>NaN</td>\n",
              "      <td>NaN</td>\n",
              "      <td>NaN</td>\n",
              "      <td>impression</td>\n",
              "      <td>NaN</td>\n",
              "      <td>1.577977e+09</td>\n",
              "      <td>NaN</td>\n",
              "      <td>1.577977e+09</td>\n",
              "      <td>NaN</td>\n",
              "      <td>NaN</td>\n",
              "      <td>NaN</td>\n",
              "      <td>NaN</td>\n",
              "      <td>NaN</td>\n",
              "      <td>1577977200</td>\n",
              "      <td>NaN</td>\n",
              "      <td>NaN</td>\n",
              "      <td>NaN</td>\n",
              "      <td>NaN</td>\n",
              "      <td>NaN</td>\n",
              "      <td>NaN</td>\n",
              "      <td>Cable/DSL</td>\n",
              "      <td>NaN</td>\n",
              "      <td>NaN</td>\n",
              "      <td>NaN</td>\n",
              "      <td>NaN</td>\n",
              "      <td>x7kx2t35w</td>\n",
              "      <td>...</td>\n",
              "      <td>NaN</td>\n",
              "      <td>NaN</td>\n",
              "      <td>NaN</td>\n",
              "      <td>NaN</td>\n",
              "      <td>NaN</td>\n",
              "      <td>NaN</td>\n",
              "      <td>NaN</td>\n",
              "      <td>NaN</td>\n",
              "      <td>NaN</td>\n",
              "      <td>CPI</td>\n",
              "      <td>0,07</td>\n",
              "      <td>USD</td>\n",
              "      <td>0,07</td>\n",
              "      <td>NaN</td>\n",
              "      <td>NaN</td>\n",
              "      <td>NaN</td>\n",
              "      <td>NaN</td>\n",
              "      <td>NaN</td>\n",
              "      <td>NaN</td>\n",
              "      <td>NaN</td>\n",
              "      <td>NaN</td>\n",
              "      <td>NaN</td>\n",
              "      <td>NaN</td>\n",
              "      <td>NaN</td>\n",
              "      <td>NaN</td>\n",
              "      <td>NaN</td>\n",
              "      <td>NaN</td>\n",
              "      <td>NaN</td>\n",
              "      <td>NaN</td>\n",
              "      <td>NaN</td>\n",
              "      <td>NaN</td>\n",
              "      <td>NaN</td>\n",
              "      <td>NaN</td>\n",
              "      <td>NaN</td>\n",
              "      <td>NaN</td>\n",
              "      <td>NaN</td>\n",
              "      <td>NaN</td>\n",
              "      <td>NaN</td>\n",
              "      <td>NaN</td>\n",
              "      <td>{iad_keywords_matchtype}</td>\n",
              "    </tr>\n",
              "  </tbody>\n",
              "</table>\n",
              "<p>5 rows × 98 columns</p>\n",
              "</div>"
            ],
            "text/plain": [
              "         {app_id} {app_name}  ... {iad_conversion_type}  {iad_keywords_matchtype}\n",
              "0  tr.com.apps.kk        NaN  ...                   NaN  {iad_keywords_matchtype}\n",
              "1  tr.com.apps.kk        NaN  ...                   NaN  {iad_keywords_matchtype}\n",
              "2             NaN        NaN  ...                   NaN  {iad_keywords_matchtype}\n",
              "3  tr.com.apps.kk        NaN  ...                   NaN  {iad_keywords_matchtype}\n",
              "4  tr.com.apps.kk        NaN  ...                   NaN  {iad_keywords_matchtype}\n",
              "\n",
              "[5 rows x 98 columns]"
            ]
          },
          "metadata": {
            "tags": []
          },
          "execution_count": 3
        }
      ]
    },
    {
      "cell_type": "code",
      "metadata": {
        "colab": {
          "base_uri": "https://localhost:8080/"
        },
        "id": "FJj_Fzyb52y8",
        "outputId": "eade711c-8f78-4e75-912f-63f204ae8713"
      },
      "source": [
        "#df1.describe()\n",
        "#df1.dtypes\n",
        "df1.shape"
      ],
      "execution_count": 4,
      "outputs": [
        {
          "output_type": "execute_result",
          "data": {
            "text/plain": [
              "(39139, 98)"
            ]
          },
          "metadata": {
            "tags": []
          },
          "execution_count": 4
        }
      ]
    },
    {
      "cell_type": "code",
      "metadata": {
        "colab": {
          "base_uri": "https://localhost:8080/"
        },
        "id": "5KRU-C0W8gKq",
        "outputId": "a2f55018-7e37-4899-ff48-5da6f3ef7c78"
      },
      "source": [
        "# see how many there are missing elements in each columns.\n",
        "df1.isna().sum()"
      ],
      "execution_count": 5,
      "outputs": [
        {
          "output_type": "execute_result",
          "data": {
            "text/plain": [
              "{app_id}                     8091\n",
              "{app_name}                  34578\n",
              "{app_version}               34578\n",
              "{store}                      8091\n",
              "{tracker}                       0\n",
              "                            ...  \n",
              "{fb_platform_position}      38820\n",
              "{iad_creative_set_name}     39139\n",
              "{iad_creative_set_id}       39139\n",
              "{iad_conversion_type}       39139\n",
              "{iad_keywords_matchtype}        0\n",
              "Length: 98, dtype: int64"
            ]
          },
          "metadata": {
            "tags": []
          },
          "execution_count": 5
        }
      ]
    },
    {
      "cell_type": "code",
      "metadata": {
        "id": "2QWbHuI-9B4K"
      },
      "source": [
        "#notice that there are some columns which all the values are null. Delete this columns.\n",
        "df1 = df1.dropna(how='all', axis=1)\n",
        "#delete the values are null in rows if we have\n",
        "df1 = df1.dropna(how='all')\n"
      ],
      "execution_count": 6,
      "outputs": []
    },
    {
      "cell_type": "code",
      "metadata": {
        "colab": {
          "base_uri": "https://localhost:8080/"
        },
        "id": "Do9rxRjULZsr",
        "outputId": "fcd95686-6b64-4034-8bd8-05889929d5b6"
      },
      "source": [
        "df1.dtypes\n",
        "df1.nunique()\n",
        "#df1.dtypes\n"
      ],
      "execution_count": 7,
      "outputs": [
        {
          "output_type": "execute_result",
          "data": {
            "text/plain": [
              "{app_id}                       2\n",
              "{app_name}                     1\n",
              "{app_version}                 20\n",
              "{store}                        2\n",
              "{tracker}                   1866\n",
              "                            ... \n",
              "{fb_adgroup_id}                7\n",
              "{fb_ad_objective_name}         1\n",
              "{fb_account_id}                1\n",
              "{fb_platform_position}         2\n",
              "{iad_keywords_matchtype}       1\n",
              "Length: 76, dtype: int64"
            ]
          },
          "metadata": {
            "tags": []
          },
          "execution_count": 7
        }
      ]
    },
    {
      "cell_type": "code",
      "metadata": {
        "colab": {
          "base_uri": "https://localhost:8080/"
        },
        "id": "NEudbHsvP6dj",
        "outputId": "bd499710-5bd0-4dbd-dfcc-dc77662ab8c1"
      },
      "source": [
        "df1.isna().any()"
      ],
      "execution_count": 8,
      "outputs": [
        {
          "output_type": "execute_result",
          "data": {
            "text/plain": [
              "{app_id}                     True\n",
              "{app_name}                   True\n",
              "{app_version}                True\n",
              "{store}                      True\n",
              "{tracker}                   False\n",
              "                            ...  \n",
              "{fb_adgroup_id}              True\n",
              "{fb_ad_objective_name}       True\n",
              "{fb_account_id}              True\n",
              "{fb_platform_position}       True\n",
              "{iad_keywords_matchtype}    False\n",
              "Length: 76, dtype: bool"
            ]
          },
          "metadata": {
            "tags": []
          },
          "execution_count": 8
        }
      ]
    },
    {
      "cell_type": "code",
      "metadata": {
        "colab": {
          "base_uri": "https://localhost:8080/"
        },
        "id": "dhR9pVKEAiyr",
        "outputId": "8df61848-c8fe-4f03-bb28-dab33786b50c"
      },
      "source": [
        "#print (df1.isnull().mean()) #check the percentage of null elements.\n",
        "\n",
        "#If more than %80 of NAN values is in one column and i have no other way to complete this i delete this columns.\n",
        "df = df1.loc[:, df1.isin([' ','NULL',0, 'NaN']).mean() < .8] \n",
        "df = df1.loc[:, df1.isnull().mean() <= .8]\n",
        "#df = df.dropna(subset=['{app_id}'])    #id cannot be NaN thus Drop NaN app_id\n",
        "print (df.isnull().mean())"
      ],
      "execution_count": 9,
      "outputs": [
        {
          "output_type": "stream",
          "text": [
            "{app_id}                    0.206725\n",
            "{store}                     0.206725\n",
            "{tracker}                   0.000000\n",
            "{tracker_name}              0.000000\n",
            "{network_name}              0.000000\n",
            "{campaign_name}             0.039730\n",
            "{adgroup_name}              0.039781\n",
            "{creative_name}             0.048366\n",
            "{activity_kind}             0.000000\n",
            "{impression_time}           0.156928\n",
            "{engagement_time}           0.039730\n",
            "{created_at}                0.000000\n",
            "{connection_type}           0.208437\n",
            "{nonce}                     0.000000\n",
            "{ip_address}                0.206367\n",
            "{user_agent}                0.000000\n",
            "{region}                    0.676512\n",
            "{country}                   0.000000\n",
            "{city}                      0.246174\n",
            "{device_name}               0.242086\n",
            "{device_type}               0.000588\n",
            "{os_name}                   0.000000\n",
            "{os_version}                0.207031\n",
            "{cost_type}                 0.724674\n",
            "{cost_amount}               0.724674\n",
            "{cost_currency}             0.724674\n",
            "{reporting_cost}            0.724725\n",
            "{iad_keywords_matchtype}    0.000000\n",
            "dtype: float64\n"
          ],
          "name": "stdout"
        }
      ]
    },
    {
      "cell_type": "code",
      "metadata": {
        "colab": {
          "base_uri": "https://localhost:8080/"
        },
        "id": "eluYEAmuoUUg",
        "outputId": "4affcde9-726f-4b56-fe0f-9c670a612a14"
      },
      "source": [
        "df.head()\n",
        "df.shape\n",
        "#df.dtypes"
      ],
      "execution_count": 10,
      "outputs": [
        {
          "output_type": "execute_result",
          "data": {
            "text/plain": [
              "(39139, 28)"
            ]
          },
          "metadata": {
            "tags": []
          },
          "execution_count": 10
        }
      ]
    },
    {
      "cell_type": "code",
      "metadata": {
        "colab": {
          "base_uri": "https://localhost:8080/",
          "height": 534
        },
        "id": "J11-FTC5eVvl",
        "outputId": "0ab8fd13-6e93-4944-e190-76b1ab291e61"
      },
      "source": [
        "df.head()\n"
      ],
      "execution_count": 11,
      "outputs": [
        {
          "output_type": "execute_result",
          "data": {
            "text/html": [
              "<div>\n",
              "<style scoped>\n",
              "    .dataframe tbody tr th:only-of-type {\n",
              "        vertical-align: middle;\n",
              "    }\n",
              "\n",
              "    .dataframe tbody tr th {\n",
              "        vertical-align: top;\n",
              "    }\n",
              "\n",
              "    .dataframe thead th {\n",
              "        text-align: right;\n",
              "    }\n",
              "</style>\n",
              "<table border=\"1\" class=\"dataframe\">\n",
              "  <thead>\n",
              "    <tr style=\"text-align: right;\">\n",
              "      <th></th>\n",
              "      <th>{app_id}</th>\n",
              "      <th>{store}</th>\n",
              "      <th>{tracker}</th>\n",
              "      <th>{tracker_name}</th>\n",
              "      <th>{network_name}</th>\n",
              "      <th>{campaign_name}</th>\n",
              "      <th>{adgroup_name}</th>\n",
              "      <th>{creative_name}</th>\n",
              "      <th>{activity_kind}</th>\n",
              "      <th>{impression_time}</th>\n",
              "      <th>{engagement_time}</th>\n",
              "      <th>{created_at}</th>\n",
              "      <th>{connection_type}</th>\n",
              "      <th>{nonce}</th>\n",
              "      <th>{ip_address}</th>\n",
              "      <th>{user_agent}</th>\n",
              "      <th>{region}</th>\n",
              "      <th>{country}</th>\n",
              "      <th>{city}</th>\n",
              "      <th>{device_name}</th>\n",
              "      <th>{device_type}</th>\n",
              "      <th>{os_name}</th>\n",
              "      <th>{os_version}</th>\n",
              "      <th>{cost_type}</th>\n",
              "      <th>{cost_amount}</th>\n",
              "      <th>{cost_currency}</th>\n",
              "      <th>{reporting_cost}</th>\n",
              "      <th>{iad_keywords_matchtype}</th>\n",
              "    </tr>\n",
              "  </thead>\n",
              "  <tbody>\n",
              "    <tr>\n",
              "      <th>0</th>\n",
              "      <td>tr.com.apps.kk</td>\n",
              "      <td>google</td>\n",
              "      <td>ptteq5u</td>\n",
              "      <td>TikTok Android Installs::Apps_Kelime Kutusu_CP...</td>\n",
              "      <td>TikTok Android Installs</td>\n",
              "      <td>Apps_Kelime Kutusu_CPI&amp;1645632596191286</td>\n",
              "      <td>Apps_ Kelime Kutusu_Android_Pizza&amp;165370631682...</td>\n",
              "      <td>Kelime Bulmaca_Android_21s_Pizza&amp;1653706321611782</td>\n",
              "      <td>impression</td>\n",
              "      <td>1.577977e+09</td>\n",
              "      <td>1.577977e+09</td>\n",
              "      <td>1577977200</td>\n",
              "      <td>Cable/DSL</td>\n",
              "      <td>dddfet91v</td>\n",
              "      <td>176.88.209.171</td>\n",
              "      <td>Mozilla/5.0 (Linux; Android 9; SM-A205F Build/...</td>\n",
              "      <td>NaN</td>\n",
              "      <td>tr</td>\n",
              "      <td>Kilis</td>\n",
              "      <td>GalaxyA20</td>\n",
              "      <td>phone</td>\n",
              "      <td>android</td>\n",
              "      <td>9</td>\n",
              "      <td>NaN</td>\n",
              "      <td>NaN</td>\n",
              "      <td>NaN</td>\n",
              "      <td>NaN</td>\n",
              "      <td>{iad_keywords_matchtype}</td>\n",
              "    </tr>\n",
              "    <tr>\n",
              "      <th>1</th>\n",
              "      <td>tr.com.apps.kk</td>\n",
              "      <td>google</td>\n",
              "      <td>ptteq5u</td>\n",
              "      <td>TikTok Android Installs::Apps_Kelime Kutusu_CP...</td>\n",
              "      <td>TikTok Android Installs</td>\n",
              "      <td>Apps_Kelime Kutusu_CPI&amp;1645632596191286</td>\n",
              "      <td>Apps_ Kelime Kutusu_Android_Pizza&amp;165370631682...</td>\n",
              "      <td>Kelime Bulmaca_Android_21s_Pizza&amp;1653706321611782</td>\n",
              "      <td>impression</td>\n",
              "      <td>1.577977e+09</td>\n",
              "      <td>1.577977e+09</td>\n",
              "      <td>1577977200</td>\n",
              "      <td>Cellular</td>\n",
              "      <td>17jk8430o</td>\n",
              "      <td>37.155.170.239</td>\n",
              "      <td>Mozilla/5.0 (Linux; Android 8.1.0; SM-J260F Bu...</td>\n",
              "      <td>NaN</td>\n",
              "      <td>tr</td>\n",
              "      <td>NaN</td>\n",
              "      <td>GalaxyJ2Core</td>\n",
              "      <td>phone</td>\n",
              "      <td>android</td>\n",
              "      <td>8.1.0</td>\n",
              "      <td>NaN</td>\n",
              "      <td>NaN</td>\n",
              "      <td>NaN</td>\n",
              "      <td>NaN</td>\n",
              "      <td>{iad_keywords_matchtype}</td>\n",
              "    </tr>\n",
              "    <tr>\n",
              "      <th>2</th>\n",
              "      <td>NaN</td>\n",
              "      <td>NaN</td>\n",
              "      <td>j9w70pz</td>\n",
              "      <td>AppLovin Installs::KK - Android - TR - AppLovi...</td>\n",
              "      <td>AppLovin Installs</td>\n",
              "      <td>KK - Android - TR - AppLovin</td>\n",
              "      <td>0dd1c5d826388f1ecb8c75854e406882</td>\n",
              "      <td>Banner_KK - Android - TR - AppLovin</td>\n",
              "      <td>impression</td>\n",
              "      <td>1.577977e+09</td>\n",
              "      <td>1.577977e+09</td>\n",
              "      <td>1577977200</td>\n",
              "      <td>NaN</td>\n",
              "      <td>5zpnyeryd</td>\n",
              "      <td>NaN</td>\n",
              "      <td>Mozilla/5.0 (Linux; Android 7.0; Lenovo K53a48...</td>\n",
              "      <td>tr</td>\n",
              "      <td>tr</td>\n",
              "      <td>NaN</td>\n",
              "      <td>NaN</td>\n",
              "      <td>phone</td>\n",
              "      <td>server</td>\n",
              "      <td>NaN</td>\n",
              "      <td>NaN</td>\n",
              "      <td>NaN</td>\n",
              "      <td>NaN</td>\n",
              "      <td>NaN</td>\n",
              "      <td>{iad_keywords_matchtype}</td>\n",
              "    </tr>\n",
              "    <tr>\n",
              "      <th>3</th>\n",
              "      <td>tr.com.apps.kk</td>\n",
              "      <td>google</td>\n",
              "      <td>ptteq5u</td>\n",
              "      <td>TikTok Android Installs::Apps_Kelime Kutusu_CP...</td>\n",
              "      <td>TikTok Android Installs</td>\n",
              "      <td>Apps_Kelime Kutusu_CPI&amp;1645632596191286</td>\n",
              "      <td>Apps_ Kelime Kutusu_Android_Pizza&amp;165370631682...</td>\n",
              "      <td>Kelime Bulmaca_Android_21s_Pizza&amp;1653706321611782</td>\n",
              "      <td>impression</td>\n",
              "      <td>1.577977e+09</td>\n",
              "      <td>1.577977e+09</td>\n",
              "      <td>1577977199</td>\n",
              "      <td>Cable/DSL</td>\n",
              "      <td>44d9g6brn</td>\n",
              "      <td>81.213.87.36</td>\n",
              "      <td>Mozilla/5.0 (Linux; Android 6.0.1; SM-G5510 Bu...</td>\n",
              "      <td>NaN</td>\n",
              "      <td>tr</td>\n",
              "      <td>Konya</td>\n",
              "      <td>GalaxyOn</td>\n",
              "      <td>phone</td>\n",
              "      <td>android</td>\n",
              "      <td>6.0.1</td>\n",
              "      <td>NaN</td>\n",
              "      <td>NaN</td>\n",
              "      <td>NaN</td>\n",
              "      <td>NaN</td>\n",
              "      <td>{iad_keywords_matchtype}</td>\n",
              "    </tr>\n",
              "    <tr>\n",
              "      <th>4</th>\n",
              "      <td>tr.com.apps.kk</td>\n",
              "      <td>google</td>\n",
              "      <td>gl7y3ir</td>\n",
              "      <td>ironSrc Installs::Kelime Kutusu - Android - TR...</td>\n",
              "      <td>ironSrc Installs</td>\n",
              "      <td>Kelime Kutusu - Android - TR - ironSrc_8310429</td>\n",
              "      <td>209799</td>\n",
              "      <td>Set-7_122525</td>\n",
              "      <td>impression</td>\n",
              "      <td>1.577977e+09</td>\n",
              "      <td>1.577977e+09</td>\n",
              "      <td>1577977200</td>\n",
              "      <td>Cable/DSL</td>\n",
              "      <td>x7kx2t35w</td>\n",
              "      <td>88.230.105.60</td>\n",
              "      <td>finagle-http</td>\n",
              "      <td>NaN</td>\n",
              "      <td>tr</td>\n",
              "      <td>Bursa</td>\n",
              "      <td>NaN</td>\n",
              "      <td>phone</td>\n",
              "      <td>android</td>\n",
              "      <td>5.0.2</td>\n",
              "      <td>CPI</td>\n",
              "      <td>0,07</td>\n",
              "      <td>USD</td>\n",
              "      <td>0,07</td>\n",
              "      <td>{iad_keywords_matchtype}</td>\n",
              "    </tr>\n",
              "  </tbody>\n",
              "</table>\n",
              "</div>"
            ],
            "text/plain": [
              "         {app_id} {store}  ... {reporting_cost}  {iad_keywords_matchtype}\n",
              "0  tr.com.apps.kk  google  ...              NaN  {iad_keywords_matchtype}\n",
              "1  tr.com.apps.kk  google  ...              NaN  {iad_keywords_matchtype}\n",
              "2             NaN     NaN  ...              NaN  {iad_keywords_matchtype}\n",
              "3  tr.com.apps.kk  google  ...              NaN  {iad_keywords_matchtype}\n",
              "4  tr.com.apps.kk  google  ...             0,07  {iad_keywords_matchtype}\n",
              "\n",
              "[5 rows x 28 columns]"
            ]
          },
          "metadata": {
            "tags": []
          },
          "execution_count": 11
        }
      ]
    },
    {
      "cell_type": "code",
      "metadata": {
        "id": "O6_iPRt-faSx"
      },
      "source": [
        "Engagement_Data = df[['{app_id}','{store}','{tracker}', '{tracker_name}','{network_name}','{campaign_name}','{adgroup_name}','{creative_name}', '{activity_kind}','{impression_time}','{engagement_time}','{created_at}','{connection_type}']]"
      ],
      "execution_count": 12,
      "outputs": []
    },
    {
      "cell_type": "code",
      "metadata": {
        "colab": {
          "base_uri": "https://localhost:8080/"
        },
        "id": "cifXMo4Yhgtk",
        "outputId": "eac093d7-8f42-458c-dba0-08bd9f84b24e"
      },
      "source": [
        "Engagement_Data.head()\n",
        "#Engagement_Data.shape\n",
        "Engagement_Data.isna().sum()"
      ],
      "execution_count": 13,
      "outputs": [
        {
          "output_type": "execute_result",
          "data": {
            "text/plain": [
              "{app_id}             8091\n",
              "{store}              8091\n",
              "{tracker}               0\n",
              "{tracker_name}          0\n",
              "{network_name}          0\n",
              "{campaign_name}      1555\n",
              "{adgroup_name}       1557\n",
              "{creative_name}      1893\n",
              "{activity_kind}         0\n",
              "{impression_time}    6142\n",
              "{engagement_time}    1555\n",
              "{created_at}            0\n",
              "{connection_type}    8158\n",
              "dtype: int64"
            ]
          },
          "metadata": {
            "tags": []
          },
          "execution_count": 13
        }
      ]
    },
    {
      "cell_type": "code",
      "metadata": {
        "id": "ad2YZJUtjsoi"
      },
      "source": [
        "User_Data = df[['{ip_address}','{user_agent}','{region}','{country}','{city}','{device_name}','{device_type}','{os_name}','{os_version}','{cost_type}','{cost_amount}','{cost_currency}','{reporting_cost}']]"
      ],
      "execution_count": 74,
      "outputs": []
    },
    {
      "cell_type": "code",
      "metadata": {
        "colab": {
          "base_uri": "https://localhost:8080/"
        },
        "id": "cBXeeFYkmXI5",
        "outputId": "9c99b2d4-b51d-4a1a-f3f1-141a57902f83"
      },
      "source": [
        "User_Data.head()\n",
        "User_Data.isna().sum() \n"
      ],
      "execution_count": 75,
      "outputs": [
        {
          "output_type": "execute_result",
          "data": {
            "text/plain": [
              "{ip_address}         8077\n",
              "{user_agent}            0\n",
              "{region}            26478\n",
              "{country}               0\n",
              "{city}               9635\n",
              "{device_name}        9475\n",
              "{device_type}          23\n",
              "{os_name}               0\n",
              "{os_version}         8103\n",
              "{cost_type}         28363\n",
              "{cost_amount}       28363\n",
              "{cost_currency}     28363\n",
              "{reporting_cost}    28365\n",
              "dtype: int64"
            ]
          },
          "metadata": {
            "tags": []
          },
          "execution_count": 75
        }
      ]
    },
    {
      "cell_type": "code",
      "metadata": {
        "colab": {
          "base_uri": "https://localhost:8080/"
        },
        "id": "Cm5rq2KAOcMT",
        "outputId": "cc1440aa-a74c-473a-f9d7-c8088f62d6d4"
      },
      "source": [
        "Engagement_Data.head()\n",
        "Engagement_Data.nunique()"
      ],
      "execution_count": 16,
      "outputs": [
        {
          "output_type": "execute_result",
          "data": {
            "text/plain": [
              "{app_id}                2\n",
              "{store}                 2\n",
              "{tracker}            1866\n",
              "{tracker_name}       1866\n",
              "{network_name}         13\n",
              "{campaign_name}        31\n",
              "{adgroup_name}       1379\n",
              "{creative_name}       114\n",
              "{activity_kind}         7\n",
              "{impression_time}    3624\n",
              "{engagement_time}    5333\n",
              "{created_at}         4907\n",
              "{connection_type}       3\n",
              "dtype: int64"
            ]
          },
          "metadata": {
            "tags": []
          },
          "execution_count": 16
        }
      ]
    },
    {
      "cell_type": "code",
      "metadata": {
        "id": "d02wYDfJSNMg",
        "colab": {
          "base_uri": "https://localhost:8080/"
        },
        "outputId": "988ab5af-63a1-46f1-edcf-069c96a98bfe"
      },
      "source": [
        "Engagement_Data.groupby(['{app_id}']).sum()\n",
        "Engagement_Data['{app_id}'].value_counts()\n",
        "#Engagement_Data[['{app_id}', '{store}']] = Engagement_Data[['{app_id}', '{store}']].fillna(method='ffill', inplace=True)\n",
        "Engagement_Data.fillna(method='ffill', inplace=True)\n",
        "#Engagement_Data.head()"
      ],
      "execution_count": 17,
      "outputs": [
        {
          "output_type": "stream",
          "text": [
            "/usr/local/lib/python3.6/dist-packages/pandas/core/frame.py:4327: SettingWithCopyWarning:\n",
            "\n",
            "\n",
            "A value is trying to be set on a copy of a slice from a DataFrame\n",
            "\n",
            "See the caveats in the documentation: https://pandas.pydata.org/pandas-docs/stable/user_guide/indexing.html#returning-a-view-versus-a-copy\n",
            "\n"
          ],
          "name": "stderr"
        }
      ]
    },
    {
      "cell_type": "code",
      "metadata": {
        "colab": {
          "base_uri": "https://localhost:8080/"
        },
        "id": "VbAtQM9Ej1AS",
        "outputId": "3cf1e355-f24f-43fc-9235-c12e09767a45"
      },
      "source": [
        "Engagement_Data['{impression_time}'] = Engagement_Data['{impression_time}'].astype(np.int64)\n",
        "\n",
        "Engagement_Data['{engagement_time}'] = Engagement_Data['{engagement_time}'].astype(np.int64)\n",
        "\n",
        "Engagement_Data['{impression_time}']= pd.to_datetime(Engagement_Data['{impression_time}'], unit='s')\n",
        "\n",
        "#Engagement_Data['{engagement_time}']= pd.to_datetime(Engagement_Data['{engagement_time}'], unit='s')\n",
        "#Engagement_Data['{created_at}']= pd.to_datetime(Engagement_Data['{created_at}'], unit='s')\n",
        "\n"
      ],
      "execution_count": 18,
      "outputs": [
        {
          "output_type": "stream",
          "text": [
            "/usr/local/lib/python3.6/dist-packages/ipykernel_launcher.py:1: SettingWithCopyWarning:\n",
            "\n",
            "\n",
            "A value is trying to be set on a copy of a slice from a DataFrame.\n",
            "Try using .loc[row_indexer,col_indexer] = value instead\n",
            "\n",
            "See the caveats in the documentation: https://pandas.pydata.org/pandas-docs/stable/user_guide/indexing.html#returning-a-view-versus-a-copy\n",
            "\n",
            "/usr/local/lib/python3.6/dist-packages/ipykernel_launcher.py:3: SettingWithCopyWarning:\n",
            "\n",
            "\n",
            "A value is trying to be set on a copy of a slice from a DataFrame.\n",
            "Try using .loc[row_indexer,col_indexer] = value instead\n",
            "\n",
            "See the caveats in the documentation: https://pandas.pydata.org/pandas-docs/stable/user_guide/indexing.html#returning-a-view-versus-a-copy\n",
            "\n",
            "/usr/local/lib/python3.6/dist-packages/ipykernel_launcher.py:5: SettingWithCopyWarning:\n",
            "\n",
            "\n",
            "A value is trying to be set on a copy of a slice from a DataFrame.\n",
            "Try using .loc[row_indexer,col_indexer] = value instead\n",
            "\n",
            "See the caveats in the documentation: https://pandas.pydata.org/pandas-docs/stable/user_guide/indexing.html#returning-a-view-versus-a-copy\n",
            "\n"
          ],
          "name": "stderr"
        }
      ]
    },
    {
      "cell_type": "code",
      "metadata": {
        "colab": {
          "base_uri": "https://localhost:8080/"
        },
        "id": "s4irqD5EWWsm",
        "outputId": "5000b2bf-3a98-4449-c47f-a73eae027ef5"
      },
      "source": [
        "Engagement_Data['{engagement_time}']= pd.to_datetime(Engagement_Data['{engagement_time}'], unit='s')"
      ],
      "execution_count": 19,
      "outputs": [
        {
          "output_type": "stream",
          "text": [
            "/usr/local/lib/python3.6/dist-packages/ipykernel_launcher.py:1: SettingWithCopyWarning:\n",
            "\n",
            "\n",
            "A value is trying to be set on a copy of a slice from a DataFrame.\n",
            "Try using .loc[row_indexer,col_indexer] = value instead\n",
            "\n",
            "See the caveats in the documentation: https://pandas.pydata.org/pandas-docs/stable/user_guide/indexing.html#returning-a-view-versus-a-copy\n",
            "\n"
          ],
          "name": "stderr"
        }
      ]
    },
    {
      "cell_type": "code",
      "metadata": {
        "colab": {
          "base_uri": "https://localhost:8080/"
        },
        "id": "w9yNVjkNWgXY",
        "outputId": "6fea00bf-91b1-4452-d30f-ccf7c231f90b"
      },
      "source": [
        "Engagement_Data['{created_at}']= pd.to_datetime(Engagement_Data['{created_at}'], unit='s')"
      ],
      "execution_count": 20,
      "outputs": [
        {
          "output_type": "stream",
          "text": [
            "/usr/local/lib/python3.6/dist-packages/ipykernel_launcher.py:1: SettingWithCopyWarning:\n",
            "\n",
            "\n",
            "A value is trying to be set on a copy of a slice from a DataFrame.\n",
            "Try using .loc[row_indexer,col_indexer] = value instead\n",
            "\n",
            "See the caveats in the documentation: https://pandas.pydata.org/pandas-docs/stable/user_guide/indexing.html#returning-a-view-versus-a-copy\n",
            "\n"
          ],
          "name": "stderr"
        }
      ]
    },
    {
      "cell_type": "code",
      "metadata": {
        "colab": {
          "base_uri": "https://localhost:8080/",
          "height": 400
        },
        "id": "swsQFINMWmy7",
        "outputId": "8071b6b9-a86a-407f-8204-0491d850ed52"
      },
      "source": [
        "Engagement_Data.head()"
      ],
      "execution_count": 21,
      "outputs": [
        {
          "output_type": "execute_result",
          "data": {
            "text/html": [
              "<div>\n",
              "<style scoped>\n",
              "    .dataframe tbody tr th:only-of-type {\n",
              "        vertical-align: middle;\n",
              "    }\n",
              "\n",
              "    .dataframe tbody tr th {\n",
              "        vertical-align: top;\n",
              "    }\n",
              "\n",
              "    .dataframe thead th {\n",
              "        text-align: right;\n",
              "    }\n",
              "</style>\n",
              "<table border=\"1\" class=\"dataframe\">\n",
              "  <thead>\n",
              "    <tr style=\"text-align: right;\">\n",
              "      <th></th>\n",
              "      <th>{app_id}</th>\n",
              "      <th>{store}</th>\n",
              "      <th>{tracker}</th>\n",
              "      <th>{tracker_name}</th>\n",
              "      <th>{network_name}</th>\n",
              "      <th>{campaign_name}</th>\n",
              "      <th>{adgroup_name}</th>\n",
              "      <th>{creative_name}</th>\n",
              "      <th>{activity_kind}</th>\n",
              "      <th>{impression_time}</th>\n",
              "      <th>{engagement_time}</th>\n",
              "      <th>{created_at}</th>\n",
              "      <th>{connection_type}</th>\n",
              "    </tr>\n",
              "  </thead>\n",
              "  <tbody>\n",
              "    <tr>\n",
              "      <th>0</th>\n",
              "      <td>tr.com.apps.kk</td>\n",
              "      <td>google</td>\n",
              "      <td>ptteq5u</td>\n",
              "      <td>TikTok Android Installs::Apps_Kelime Kutusu_CP...</td>\n",
              "      <td>TikTok Android Installs</td>\n",
              "      <td>Apps_Kelime Kutusu_CPI&amp;1645632596191286</td>\n",
              "      <td>Apps_ Kelime Kutusu_Android_Pizza&amp;165370631682...</td>\n",
              "      <td>Kelime Bulmaca_Android_21s_Pizza&amp;1653706321611782</td>\n",
              "      <td>impression</td>\n",
              "      <td>2020-01-02 15:00:00</td>\n",
              "      <td>2020-01-02 15:00:00</td>\n",
              "      <td>2020-01-02 15:00:00</td>\n",
              "      <td>Cable/DSL</td>\n",
              "    </tr>\n",
              "    <tr>\n",
              "      <th>1</th>\n",
              "      <td>tr.com.apps.kk</td>\n",
              "      <td>google</td>\n",
              "      <td>ptteq5u</td>\n",
              "      <td>TikTok Android Installs::Apps_Kelime Kutusu_CP...</td>\n",
              "      <td>TikTok Android Installs</td>\n",
              "      <td>Apps_Kelime Kutusu_CPI&amp;1645632596191286</td>\n",
              "      <td>Apps_ Kelime Kutusu_Android_Pizza&amp;165370631682...</td>\n",
              "      <td>Kelime Bulmaca_Android_21s_Pizza&amp;1653706321611782</td>\n",
              "      <td>impression</td>\n",
              "      <td>2020-01-02 15:00:00</td>\n",
              "      <td>2020-01-02 15:00:00</td>\n",
              "      <td>2020-01-02 15:00:00</td>\n",
              "      <td>Cellular</td>\n",
              "    </tr>\n",
              "    <tr>\n",
              "      <th>2</th>\n",
              "      <td>tr.com.apps.kk</td>\n",
              "      <td>google</td>\n",
              "      <td>j9w70pz</td>\n",
              "      <td>AppLovin Installs::KK - Android - TR - AppLovi...</td>\n",
              "      <td>AppLovin Installs</td>\n",
              "      <td>KK - Android - TR - AppLovin</td>\n",
              "      <td>0dd1c5d826388f1ecb8c75854e406882</td>\n",
              "      <td>Banner_KK - Android - TR - AppLovin</td>\n",
              "      <td>impression</td>\n",
              "      <td>2020-01-02 15:00:00</td>\n",
              "      <td>2020-01-02 15:00:00</td>\n",
              "      <td>2020-01-02 15:00:00</td>\n",
              "      <td>Cellular</td>\n",
              "    </tr>\n",
              "    <tr>\n",
              "      <th>3</th>\n",
              "      <td>tr.com.apps.kk</td>\n",
              "      <td>google</td>\n",
              "      <td>ptteq5u</td>\n",
              "      <td>TikTok Android Installs::Apps_Kelime Kutusu_CP...</td>\n",
              "      <td>TikTok Android Installs</td>\n",
              "      <td>Apps_Kelime Kutusu_CPI&amp;1645632596191286</td>\n",
              "      <td>Apps_ Kelime Kutusu_Android_Pizza&amp;165370631682...</td>\n",
              "      <td>Kelime Bulmaca_Android_21s_Pizza&amp;1653706321611782</td>\n",
              "      <td>impression</td>\n",
              "      <td>2020-01-02 14:59:59</td>\n",
              "      <td>2020-01-02 14:59:59</td>\n",
              "      <td>2020-01-02 14:59:59</td>\n",
              "      <td>Cable/DSL</td>\n",
              "    </tr>\n",
              "    <tr>\n",
              "      <th>4</th>\n",
              "      <td>tr.com.apps.kk</td>\n",
              "      <td>google</td>\n",
              "      <td>gl7y3ir</td>\n",
              "      <td>ironSrc Installs::Kelime Kutusu - Android - TR...</td>\n",
              "      <td>ironSrc Installs</td>\n",
              "      <td>Kelime Kutusu - Android - TR - ironSrc_8310429</td>\n",
              "      <td>209799</td>\n",
              "      <td>Set-7_122525</td>\n",
              "      <td>impression</td>\n",
              "      <td>2020-01-02 15:00:00</td>\n",
              "      <td>2020-01-02 15:00:00</td>\n",
              "      <td>2020-01-02 15:00:00</td>\n",
              "      <td>Cable/DSL</td>\n",
              "    </tr>\n",
              "  </tbody>\n",
              "</table>\n",
              "</div>"
            ],
            "text/plain": [
              "         {app_id} {store}  ...        {created_at} {connection_type}\n",
              "0  tr.com.apps.kk  google  ... 2020-01-02 15:00:00         Cable/DSL\n",
              "1  tr.com.apps.kk  google  ... 2020-01-02 15:00:00          Cellular\n",
              "2  tr.com.apps.kk  google  ... 2020-01-02 15:00:00          Cellular\n",
              "3  tr.com.apps.kk  google  ... 2020-01-02 14:59:59         Cable/DSL\n",
              "4  tr.com.apps.kk  google  ... 2020-01-02 15:00:00         Cable/DSL\n",
              "\n",
              "[5 rows x 13 columns]"
            ]
          },
          "metadata": {
            "tags": []
          },
          "execution_count": 21
        }
      ]
    },
    {
      "cell_type": "code",
      "metadata": {
        "colab": {
          "base_uri": "https://localhost:8080/"
        },
        "id": "7n4J4JtAWqYR",
        "outputId": "bfb083ee-b069-4658-82da-9e895f5f18b1"
      },
      "source": [
        "Engagement_Data['new_{created_at}_date'] = [d.date() for d in Engagement_Data['{created_at}']]\n",
        "Engagement_Data['new_{created_at}_time'] = [d.time() for d in Engagement_Data['{created_at}']]\n"
      ],
      "execution_count": 22,
      "outputs": [
        {
          "output_type": "stream",
          "text": [
            "/usr/local/lib/python3.6/dist-packages/ipykernel_launcher.py:1: SettingWithCopyWarning:\n",
            "\n",
            "\n",
            "A value is trying to be set on a copy of a slice from a DataFrame.\n",
            "Try using .loc[row_indexer,col_indexer] = value instead\n",
            "\n",
            "See the caveats in the documentation: https://pandas.pydata.org/pandas-docs/stable/user_guide/indexing.html#returning-a-view-versus-a-copy\n",
            "\n",
            "/usr/local/lib/python3.6/dist-packages/ipykernel_launcher.py:2: SettingWithCopyWarning:\n",
            "\n",
            "\n",
            "A value is trying to be set on a copy of a slice from a DataFrame.\n",
            "Try using .loc[row_indexer,col_indexer] = value instead\n",
            "\n",
            "See the caveats in the documentation: https://pandas.pydata.org/pandas-docs/stable/user_guide/indexing.html#returning-a-view-versus-a-copy\n",
            "\n"
          ],
          "name": "stderr"
        }
      ]
    },
    {
      "cell_type": "code",
      "metadata": {
        "id": "TKvD4jo2gFfj"
      },
      "source": [
        "Engagement_Data1 = Engagement_Data.drop(['{impression_time}', '{engagement_time}','{created_at}' ], axis=1)\n"
      ],
      "execution_count": 23,
      "outputs": []
    },
    {
      "cell_type": "code",
      "metadata": {
        "colab": {
          "base_uri": "https://localhost:8080/"
        },
        "id": "XZ7Ey5RUgXO1",
        "outputId": "835a0d1f-c7cc-44f3-8957-9e0f61fc7871"
      },
      "source": [
        "Engagement_Data1.dtypes"
      ],
      "execution_count": 24,
      "outputs": [
        {
          "output_type": "execute_result",
          "data": {
            "text/plain": [
              "{app_id}                 object\n",
              "{store}                  object\n",
              "{tracker}                object\n",
              "{tracker_name}           object\n",
              "{network_name}           object\n",
              "{campaign_name}          object\n",
              "{adgroup_name}           object\n",
              "{creative_name}          object\n",
              "{activity_kind}          object\n",
              "{connection_type}        object\n",
              "new_{created_at}_date    object\n",
              "new_{created_at}_time    object\n",
              "dtype: object"
            ]
          },
          "metadata": {
            "tags": []
          },
          "execution_count": 24
        }
      ]
    },
    {
      "cell_type": "code",
      "metadata": {
        "id": "aEcjauiLnJS-"
      },
      "source": [
        "\n",
        "#Engagement_Data1.assign(id=add(np.arange(1, len(df) + 1).astype(str)))\n",
        "Engagement_Data1[\"id\"] = Engagement_Data1.index + 1"
      ],
      "execution_count": 25,
      "outputs": []
    },
    {
      "cell_type": "code",
      "metadata": {
        "colab": {
          "base_uri": "https://localhost:8080/",
          "height": 400
        },
        "id": "qA2u7P73qVok",
        "outputId": "0da67469-c18d-4216-ace0-5ddfe94a03cc"
      },
      "source": [
        "Engagement_Data1.head()"
      ],
      "execution_count": 26,
      "outputs": [
        {
          "output_type": "execute_result",
          "data": {
            "text/html": [
              "<div>\n",
              "<style scoped>\n",
              "    .dataframe tbody tr th:only-of-type {\n",
              "        vertical-align: middle;\n",
              "    }\n",
              "\n",
              "    .dataframe tbody tr th {\n",
              "        vertical-align: top;\n",
              "    }\n",
              "\n",
              "    .dataframe thead th {\n",
              "        text-align: right;\n",
              "    }\n",
              "</style>\n",
              "<table border=\"1\" class=\"dataframe\">\n",
              "  <thead>\n",
              "    <tr style=\"text-align: right;\">\n",
              "      <th></th>\n",
              "      <th>{app_id}</th>\n",
              "      <th>{store}</th>\n",
              "      <th>{tracker}</th>\n",
              "      <th>{tracker_name}</th>\n",
              "      <th>{network_name}</th>\n",
              "      <th>{campaign_name}</th>\n",
              "      <th>{adgroup_name}</th>\n",
              "      <th>{creative_name}</th>\n",
              "      <th>{activity_kind}</th>\n",
              "      <th>{connection_type}</th>\n",
              "      <th>new_{created_at}_date</th>\n",
              "      <th>new_{created_at}_time</th>\n",
              "      <th>id</th>\n",
              "    </tr>\n",
              "  </thead>\n",
              "  <tbody>\n",
              "    <tr>\n",
              "      <th>0</th>\n",
              "      <td>tr.com.apps.kk</td>\n",
              "      <td>google</td>\n",
              "      <td>ptteq5u</td>\n",
              "      <td>TikTok Android Installs::Apps_Kelime Kutusu_CP...</td>\n",
              "      <td>TikTok Android Installs</td>\n",
              "      <td>Apps_Kelime Kutusu_CPI&amp;1645632596191286</td>\n",
              "      <td>Apps_ Kelime Kutusu_Android_Pizza&amp;165370631682...</td>\n",
              "      <td>Kelime Bulmaca_Android_21s_Pizza&amp;1653706321611782</td>\n",
              "      <td>impression</td>\n",
              "      <td>Cable/DSL</td>\n",
              "      <td>2020-01-02</td>\n",
              "      <td>15:00:00</td>\n",
              "      <td>1</td>\n",
              "    </tr>\n",
              "    <tr>\n",
              "      <th>1</th>\n",
              "      <td>tr.com.apps.kk</td>\n",
              "      <td>google</td>\n",
              "      <td>ptteq5u</td>\n",
              "      <td>TikTok Android Installs::Apps_Kelime Kutusu_CP...</td>\n",
              "      <td>TikTok Android Installs</td>\n",
              "      <td>Apps_Kelime Kutusu_CPI&amp;1645632596191286</td>\n",
              "      <td>Apps_ Kelime Kutusu_Android_Pizza&amp;165370631682...</td>\n",
              "      <td>Kelime Bulmaca_Android_21s_Pizza&amp;1653706321611782</td>\n",
              "      <td>impression</td>\n",
              "      <td>Cellular</td>\n",
              "      <td>2020-01-02</td>\n",
              "      <td>15:00:00</td>\n",
              "      <td>2</td>\n",
              "    </tr>\n",
              "    <tr>\n",
              "      <th>2</th>\n",
              "      <td>tr.com.apps.kk</td>\n",
              "      <td>google</td>\n",
              "      <td>j9w70pz</td>\n",
              "      <td>AppLovin Installs::KK - Android - TR - AppLovi...</td>\n",
              "      <td>AppLovin Installs</td>\n",
              "      <td>KK - Android - TR - AppLovin</td>\n",
              "      <td>0dd1c5d826388f1ecb8c75854e406882</td>\n",
              "      <td>Banner_KK - Android - TR - AppLovin</td>\n",
              "      <td>impression</td>\n",
              "      <td>Cellular</td>\n",
              "      <td>2020-01-02</td>\n",
              "      <td>15:00:00</td>\n",
              "      <td>3</td>\n",
              "    </tr>\n",
              "    <tr>\n",
              "      <th>3</th>\n",
              "      <td>tr.com.apps.kk</td>\n",
              "      <td>google</td>\n",
              "      <td>ptteq5u</td>\n",
              "      <td>TikTok Android Installs::Apps_Kelime Kutusu_CP...</td>\n",
              "      <td>TikTok Android Installs</td>\n",
              "      <td>Apps_Kelime Kutusu_CPI&amp;1645632596191286</td>\n",
              "      <td>Apps_ Kelime Kutusu_Android_Pizza&amp;165370631682...</td>\n",
              "      <td>Kelime Bulmaca_Android_21s_Pizza&amp;1653706321611782</td>\n",
              "      <td>impression</td>\n",
              "      <td>Cable/DSL</td>\n",
              "      <td>2020-01-02</td>\n",
              "      <td>14:59:59</td>\n",
              "      <td>4</td>\n",
              "    </tr>\n",
              "    <tr>\n",
              "      <th>4</th>\n",
              "      <td>tr.com.apps.kk</td>\n",
              "      <td>google</td>\n",
              "      <td>gl7y3ir</td>\n",
              "      <td>ironSrc Installs::Kelime Kutusu - Android - TR...</td>\n",
              "      <td>ironSrc Installs</td>\n",
              "      <td>Kelime Kutusu - Android - TR - ironSrc_8310429</td>\n",
              "      <td>209799</td>\n",
              "      <td>Set-7_122525</td>\n",
              "      <td>impression</td>\n",
              "      <td>Cable/DSL</td>\n",
              "      <td>2020-01-02</td>\n",
              "      <td>15:00:00</td>\n",
              "      <td>5</td>\n",
              "    </tr>\n",
              "  </tbody>\n",
              "</table>\n",
              "</div>"
            ],
            "text/plain": [
              "         {app_id} {store}  ... new_{created_at}_time id\n",
              "0  tr.com.apps.kk  google  ...              15:00:00  1\n",
              "1  tr.com.apps.kk  google  ...              15:00:00  2\n",
              "2  tr.com.apps.kk  google  ...              15:00:00  3\n",
              "3  tr.com.apps.kk  google  ...              14:59:59  4\n",
              "4  tr.com.apps.kk  google  ...              15:00:00  5\n",
              "\n",
              "[5 rows x 13 columns]"
            ]
          },
          "metadata": {
            "tags": []
          },
          "execution_count": 26
        }
      ]
    },
    {
      "cell_type": "code",
      "metadata": {
        "id": "1sTprg0FlxLx"
      },
      "source": [
        "Engagement_Data1.to_excel(\"Engagement_Data.xlsx\") "
      ],
      "execution_count": null,
      "outputs": []
    },
    {
      "cell_type": "code",
      "metadata": {
        "colab": {
          "base_uri": "https://localhost:8080/"
        },
        "id": "aE1_O7uVs9GQ",
        "outputId": "c04359e3-5eb5-4875-93f5-d9788a3e2740"
      },
      "source": [
        "\n",
        "User_Data.nunique()"
      ],
      "execution_count": 76,
      "outputs": [
        {
          "output_type": "execute_result",
          "data": {
            "text/plain": [
              "{ip_address}        25418\n",
              "{user_agent}         3835\n",
              "{region}               20\n",
              "{country}              26\n",
              "{city}                264\n",
              "{device_name}         786\n",
              "{device_type}           5\n",
              "{os_name}               4\n",
              "{os_version}           75\n",
              "{cost_type}             1\n",
              "{cost_amount}          19\n",
              "{cost_currency}         1\n",
              "{reporting_cost}       19\n",
              "dtype: int64"
            ]
          },
          "metadata": {
            "tags": []
          },
          "execution_count": 76
        }
      ]
    },
    {
      "cell_type": "code",
      "metadata": {
        "id": "2q9LOoNltBCm"
      },
      "source": [
        "#we have country thus drop 'region' and 'ip_address'\n",
        "#we have just one type 'cost_type' and 'cost_currency' thus drop these.\n",
        "#'reporting cost' and cost amount have same values and thus drop reporting cost\n",
        "User_Data = User_Data.drop(['{region}', '{ip_address}', '{cost_type}', '{cost_currency}', '{reporting_cost}'], axis=1)\n",
        "\n",
        "\n",
        "\n"
      ],
      "execution_count": 77,
      "outputs": []
    },
    {
      "cell_type": "code",
      "metadata": {
        "id": "IuuBRAq3zyls"
      },
      "source": [
        "#User_Data['{city}'] = User_Data['{city}'].mask(User_Data.{country} == 1, 0)\n",
        "#User_Data['{city}'] = np.where(User_Data['{city}'] == 'NaN', User_Data['{country}'], User_Data['{city}'])\n",
        "User_Data['{city}'].fillna(User_Data['{country}'], inplace=True)"
      ],
      "execution_count": 78,
      "outputs": []
    },
    {
      "cell_type": "code",
      "metadata": {
        "id": "TLTiimh95Ts6"
      },
      "source": [
        "User_Data['{device_type}'].fillna(method='ffill', inplace=True)"
      ],
      "execution_count": 80,
      "outputs": []
    },
    {
      "cell_type": "code",
      "metadata": {
        "id": "ks6Xsbet6XxL"
      },
      "source": [
        "User_Data['{device_name}'].fillna(User_Data['{device_type}'], inplace=True)"
      ],
      "execution_count": 81,
      "outputs": []
    },
    {
      "cell_type": "code",
      "metadata": {
        "colab": {
          "base_uri": "https://localhost:8080/"
        },
        "id": "-HErnRYsdGHs",
        "outputId": "3e14266d-a376-400f-868b-2a30d31669ee"
      },
      "source": [
        "User_Data.dtypes"
      ],
      "execution_count": 82,
      "outputs": [
        {
          "output_type": "execute_result",
          "data": {
            "text/plain": [
              "{user_agent}     object\n",
              "{country}        object\n",
              "{city}           object\n",
              "{device_name}    object\n",
              "{device_type}    object\n",
              "{os_name}        object\n",
              "{os_version}     object\n",
              "{cost_amount}    object\n",
              "dtype: object"
            ]
          },
          "metadata": {
            "tags": []
          },
          "execution_count": 82
        }
      ]
    },
    {
      "cell_type": "code",
      "metadata": {
        "colab": {
          "base_uri": "https://localhost:8080/"
        },
        "id": "dxkUU0eue7Ax",
        "outputId": "00aabadf-39a1-4323-91de-3dcdf88e60c9"
      },
      "source": [
        "User_Data['{cost_amount}'].describe()\n",
        "User_Data['{cost_amount}'].value_counts()"
      ],
      "execution_count": 83,
      "outputs": [
        {
          "output_type": "execute_result",
          "data": {
            "text/plain": [
              "0,05    7330\n",
              "0,06    1586\n",
              "0,13     693\n",
              "0,04     422\n",
              "0,07     226\n",
              "0,15     147\n",
              "0,08      86\n",
              "0,18      83\n",
              "0,11      55\n",
              "0,02      40\n",
              "0,03      35\n",
              "0,12      25\n",
              "0,14      16\n",
              "0,17      13\n",
              "0,1        6\n",
              "0,09       5\n",
              "0,38       3\n",
              "0,16       3\n",
              "0,68       2\n",
              "Name: {cost_amount}, dtype: int64"
            ]
          },
          "metadata": {
            "tags": []
          },
          "execution_count": 83
        }
      ]
    },
    {
      "cell_type": "code",
      "metadata": {
        "id": "ZQJb4EVSkoGj"
      },
      "source": [
        "#see that  in 'cost_amount', the most comman value is 0,05 so fill all NaN with 0,05\n",
        "User_Data['{cost_amount}'] = User_Data['{cost_amount}'].fillna(User_Data['{cost_amount}'].value_counts().index[0])"
      ],
      "execution_count": 84,
      "outputs": []
    },
    {
      "cell_type": "code",
      "metadata": {
        "id": "0URY0lPNnCGZ"
      },
      "source": [
        "User_Data[\"id\"] = User_Data.index + 1"
      ],
      "execution_count": 86,
      "outputs": []
    },
    {
      "cell_type": "code",
      "metadata": {
        "colab": {
          "base_uri": "https://localhost:8080/",
          "height": 195
        },
        "id": "S98g_XX63hjg",
        "outputId": "b349b5dc-4943-42e6-ce44-7324b8e1567a"
      },
      "source": [
        "User_Data.head()"
      ],
      "execution_count": 87,
      "outputs": [
        {
          "output_type": "execute_result",
          "data": {
            "text/html": [
              "<div>\n",
              "<style scoped>\n",
              "    .dataframe tbody tr th:only-of-type {\n",
              "        vertical-align: middle;\n",
              "    }\n",
              "\n",
              "    .dataframe tbody tr th {\n",
              "        vertical-align: top;\n",
              "    }\n",
              "\n",
              "    .dataframe thead th {\n",
              "        text-align: right;\n",
              "    }\n",
              "</style>\n",
              "<table border=\"1\" class=\"dataframe\">\n",
              "  <thead>\n",
              "    <tr style=\"text-align: right;\">\n",
              "      <th></th>\n",
              "      <th>{user_agent}</th>\n",
              "      <th>{country}</th>\n",
              "      <th>{city}</th>\n",
              "      <th>{device_name}</th>\n",
              "      <th>{device_type}</th>\n",
              "      <th>{os_name}</th>\n",
              "      <th>{os_version}</th>\n",
              "      <th>{cost_amount}</th>\n",
              "      <th>id</th>\n",
              "    </tr>\n",
              "  </thead>\n",
              "  <tbody>\n",
              "    <tr>\n",
              "      <th>0</th>\n",
              "      <td>Mozilla/5.0 (Linux; Android 9; SM-A205F Build/...</td>\n",
              "      <td>tr</td>\n",
              "      <td>Kilis</td>\n",
              "      <td>GalaxyA20</td>\n",
              "      <td>phone</td>\n",
              "      <td>android</td>\n",
              "      <td>9</td>\n",
              "      <td>0,05</td>\n",
              "      <td>1</td>\n",
              "    </tr>\n",
              "    <tr>\n",
              "      <th>1</th>\n",
              "      <td>Mozilla/5.0 (Linux; Android 8.1.0; SM-J260F Bu...</td>\n",
              "      <td>tr</td>\n",
              "      <td>tr</td>\n",
              "      <td>GalaxyJ2Core</td>\n",
              "      <td>phone</td>\n",
              "      <td>android</td>\n",
              "      <td>8.1.0</td>\n",
              "      <td>0,05</td>\n",
              "      <td>2</td>\n",
              "    </tr>\n",
              "    <tr>\n",
              "      <th>2</th>\n",
              "      <td>Mozilla/5.0 (Linux; Android 7.0; Lenovo K53a48...</td>\n",
              "      <td>tr</td>\n",
              "      <td>tr</td>\n",
              "      <td>phone</td>\n",
              "      <td>phone</td>\n",
              "      <td>server</td>\n",
              "      <td>NaN</td>\n",
              "      <td>0,05</td>\n",
              "      <td>3</td>\n",
              "    </tr>\n",
              "    <tr>\n",
              "      <th>3</th>\n",
              "      <td>Mozilla/5.0 (Linux; Android 6.0.1; SM-G5510 Bu...</td>\n",
              "      <td>tr</td>\n",
              "      <td>Konya</td>\n",
              "      <td>GalaxyOn</td>\n",
              "      <td>phone</td>\n",
              "      <td>android</td>\n",
              "      <td>6.0.1</td>\n",
              "      <td>0,05</td>\n",
              "      <td>4</td>\n",
              "    </tr>\n",
              "    <tr>\n",
              "      <th>4</th>\n",
              "      <td>finagle-http</td>\n",
              "      <td>tr</td>\n",
              "      <td>Bursa</td>\n",
              "      <td>phone</td>\n",
              "      <td>phone</td>\n",
              "      <td>android</td>\n",
              "      <td>5.0.2</td>\n",
              "      <td>0,07</td>\n",
              "      <td>5</td>\n",
              "    </tr>\n",
              "  </tbody>\n",
              "</table>\n",
              "</div>"
            ],
            "text/plain": [
              "                                        {user_agent}  ... id\n",
              "0  Mozilla/5.0 (Linux; Android 9; SM-A205F Build/...  ...  1\n",
              "1  Mozilla/5.0 (Linux; Android 8.1.0; SM-J260F Bu...  ...  2\n",
              "2  Mozilla/5.0 (Linux; Android 7.0; Lenovo K53a48...  ...  3\n",
              "3  Mozilla/5.0 (Linux; Android 6.0.1; SM-G5510 Bu...  ...  4\n",
              "4                                       finagle-http  ...  5\n",
              "\n",
              "[5 rows x 9 columns]"
            ]
          },
          "metadata": {
            "tags": []
          },
          "execution_count": 87
        }
      ]
    },
    {
      "cell_type": "code",
      "metadata": {
        "id": "3TnfBdcImzac"
      },
      "source": [
        "User_Data.to_excel(\"User_Data.xlsx\")"
      ],
      "execution_count": 88,
      "outputs": []
    }
  ]
}